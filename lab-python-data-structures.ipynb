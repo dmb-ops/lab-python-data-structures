{
 "cells": [
  {
   "cell_type": "markdown",
   "metadata": {
    "tags": []
   },
   "source": [
    "# Lab | Data Structures "
   ]
  },
  {
   "cell_type": "markdown",
   "metadata": {},
   "source": [
    "## Exercise: Managing Customer Orders\n",
    "\n",
    "As part of a business venture, you are starting an online store that sells various products. To ensure smooth operations, you need to develop a program that manages customer orders and inventory.\n",
    "\n",
    "Follow the steps below to complete the exercise:\n",
    "\n",
    "1. Define a list called `products` that contains the following items: \"t-shirt\", \"mug\", \"hat\", \"book\", \"keychain\".\n",
    "\n",
    "2. Create an empty dictionary called `inventory`.\n",
    "\n",
    "3. Ask the user to input the quantity of each product available in the inventory. Use the product names from the `products` list as keys in the `inventory` dictionary and assign the respective quantities as values.\n",
    "\n",
    "4. Create an empty set called `customer_orders`.\n",
    "\n",
    "5. Ask the user to input the name of three products that a customer wants to order (from those in the products list, meaning three products out of \"t-shirt\", \"mug\", \"hat\", \"book\" or \"keychain\". Add each product name to the `customer_orders` set.\n",
    "\n",
    "6. Print the products in the `customer_orders` set.\n",
    "\n",
    "7. Calculate the following order statistics:\n",
    "   - Total Products Ordered: The total number of products in the `customer_orders` set.\n",
    "   - Percentage of Products Ordered: The percentage of products ordered compared to the total available products.\n",
    "   \n",
    "   Store these statistics in a tuple called `order_status`.\n",
    "\n",
    "8. Print the order statistics using the following format:\n",
    "   ```\n",
    "   Order Statistics:\n",
    "   Total Products Ordered: <total_products_ordered>\n",
    "   Percentage of Products Ordered: <percentage_ordered>% \n",
    "   ```\n",
    "\n",
    "9. Update the inventory by subtracting 1 from the quantity of each product. Modify the `inventory` dictionary accordingly.\n",
    "\n",
    "10. Print the updated inventory, displaying the quantity of each product on separate lines.\n",
    "\n",
    "Solve the exercise by implementing the steps using the Python concepts of lists, dictionaries, sets, and basic input/output operations. "
   ]
  },
  {
   "cell_type": "markdown",
   "metadata": {},
   "source": [
    "1.Define a list called products that contains the following items: \"t-shirt\", \"mug\", \"hat\", \"book\", \"keychain\"."
   ]
  },
  {
   "cell_type": "code",
   "execution_count": 20,
   "metadata": {},
   "outputs": [],
   "source": [
    "products = [\"t-shirt\",\"mug\", \"hat\", \"book\",\"keychain\"]"
   ]
  },
  {
   "cell_type": "markdown",
   "metadata": {},
   "source": [
    "2.Create an empty dictionary called inventory."
   ]
  },
  {
   "cell_type": "code",
   "execution_count": 25,
   "metadata": {},
   "outputs": [],
   "source": [
    "inventory=[]"
   ]
  },
  {
   "cell_type": "markdown",
   "metadata": {},
   "source": [
    "3.Ask the user to input the quantity of each product available in the inventory. Use the product names from the products list as keys in the inventory dictionary and assign the respective quantities as values."
   ]
  },
  {
   "cell_type": "code",
   "execution_count": 45,
   "metadata": {},
   "outputs": [
    {
     "name": "stdin",
     "output_type": "stream",
     "text": [
      "Enter the quantity of t-shirt:  4\n",
      "Enter the quantity of mug:  5\n",
      "Enter the quantity of hat:  3\n",
      "Enter the quantity of book:  2\n",
      "Enter the quantity of keychain:  5\n"
     ]
    },
    {
     "name": "stdout",
     "output_type": "stream",
     "text": [
      "Updated Inventory: {'t-shirt': 4, 'mug': 5, 'hat': 3, 'book': 2, 'keychain': 5}\n"
     ]
    }
   ],
   "source": [
    "products = [\"t-shirt\", \"mug\", \"hat\", \"book\", \"keychain\"]\n",
    "inventory = {}\n",
    "\n",
    "for product in products:\n",
    "    quantity = int(input(f\"Enter the quantity of {product}: \"))\n",
    "    inventory[product] = quantity\n",
    "\n",
    "print(\"Updated Inventory:\", inventory)"
   ]
  },
  {
   "cell_type": "markdown",
   "metadata": {},
   "source": [
    "4.Create an empty set called customer_orders."
   ]
  },
  {
   "cell_type": "code",
   "execution_count": 48,
   "metadata": {},
   "outputs": [],
   "source": [
    "customers_orders = set()"
   ]
  },
  {
   "cell_type": "markdown",
   "metadata": {},
   "source": [
    "5. Ask the user to input the name of three products that a customer wants to order (from those in the products list, meaning three products out of \"t-shirt\", \"mug\", \"hat\", \"book\" or \"keychain\". Add each product name to the `customer_orders` set."
   ]
  },
  {
   "cell_type": "code",
   "execution_count": 59,
   "metadata": {},
   "outputs": [
    {
     "name": "stdin",
     "output_type": "stream",
     "text": [
      "Enter a product from ['t-shirt', 'mug', 'hat', 'book', 'keychain']:  book\n",
      "Enter a product from ['t-shirt', 'mug', 'hat', 'book', 'keychain']:  keychein\n",
      "Enter a product from ['t-shirt', 'mug', 'hat', 'book', 'keychain']:  keychain\n"
     ]
    },
    {
     "name": "stdout",
     "output_type": "stream",
     "text": [
      "Invalid product. Try again\n",
      "Your order: {'keychain', 'book'}\n"
     ]
    }
   ],
   "source": [
    "products = [\"t-shirt\", \"mug\", \"hat\", \"book\", \"keychain\"]\n",
    "customer_orders = set()\n",
    "\n",
    "for _i in range(3):\n",
    "    order=input(f\"Enter a product from {products}: \").strip().lower()\n",
    "    if order in products:\n",
    "        customer_orders.add(order)\n",
    "        \n",
    "else:\n",
    "    print(\"Invalid product. Try again\")\n",
    "    \n",
    "print(\"Your order:\",customer_orders)\n"
   ]
  },
  {
   "cell_type": "markdown",
   "metadata": {},
   "source": [
    "6. Print the products in the `customer_orders` set."
   ]
  },
  {
   "cell_type": "code",
   "execution_count": 64,
   "metadata": {},
   "outputs": [
    {
     "name": "stdout",
     "output_type": "stream",
     "text": [
      "Products in customer order: set()\n"
     ]
    }
   ],
   "source": [
    "print(\"Products in customer order:\", customer_orders)"
   ]
  },
  {
   "cell_type": "markdown",
   "metadata": {},
   "source": [
    "7. Calculate the following order statistics:\n",
    "   - Total Products Ordered: The total number of products in the `customer_orders` set.\n",
    "   - Percentage of Products Ordered: The percentage of products ordered compared to the total available products.\n",
    "   \n",
    "   Store these statistics in a tuple called `order_status`."
   ]
  },
  {
   "cell_type": "code",
   "execution_count": 8,
   "metadata": {},
   "outputs": [
    {
     "name": "stdin",
     "output_type": "stream",
     "text": [
      "Enter a product from ['t-shirt', 'mug', 'hat', 'book', 'keychain']:  mug\n",
      "Enter a product from ['t-shirt', 'mug', 'hat', 'book', 'keychain']:  book\n",
      "Enter a product from ['t-shirt', 'mug', 'hat', 'book', 'keychain']:  hat\n"
     ]
    },
    {
     "name": "stdout",
     "output_type": "stream",
     "text": [
      "Your order: {'book', 'mug', 'hat'}\n",
      "Order stats (total ordered, % ordered): (3, 60.0)\n"
     ]
    }
   ],
   "source": [
    "def get_order_statistics():\n",
    "    products = [\"t-shirt\", \"mug\", \"hat\", \"book\", \"keychain\"]\n",
    "    customer_orders = set()\n",
    "\n",
    "    for _ in range(3):\n",
    "        order = input(f\"Enter a product from {products}: \").strip().lower()\n",
    "        if order in products:\n",
    "            customer_orders.add(order)\n",
    "        else:\n",
    "            print(\"Invalid product. Try again.\")\n",
    "\n",
    "    total_ordered = len(customer_orders)\n",
    "    percentage_ordered = (total_ordered / len(products)) * 100\n",
    "    order_status = (total_ordered, percentage_ordered)\n",
    "\n",
    "    print(\"Your order:\", customer_orders)\n",
    "    print(\"Order stats (total ordered, % ordered):\", order_status)\n",
    "    \n",
    "    return order_status\n",
    "stats = get_order_statistics()"
   ]
  },
  {
   "cell_type": "markdown",
   "metadata": {},
   "source": [
    "8. Print the order statistics using the following format:\n",
    "   ```\n",
    "   Order Statistics:\n",
    "   Total Products Ordered: <total_products_ordered>\n",
    "   Percentage of Products Ordered: <percentage_ordered>%\n"
   ]
  },
  {
   "cell_type": "code",
   "execution_count": 5,
   "metadata": {},
   "outputs": [
    {
     "name": "stdin",
     "output_type": "stream",
     "text": [
      "Enter a product from ['t-shirt', 'mug', 'hat', 'book', 'keychain']:  hat\n",
      "Enter a product from ['t-shirt', 'mug', 'hat', 'book', 'keychain']:  book\n",
      "Enter a product from ['t-shirt', 'mug', 'hat', 'book', 'keychain']:  mug\n"
     ]
    },
    {
     "name": "stdout",
     "output_type": "stream",
     "text": [
      "Your order: {'hat', 'book', 'mug'}\n",
      "Order stats (total ordered, % ordered): (3, 60.0)\n",
      "\n",
      "Order Statistics:\n",
      "Total Products Ordered: 3\n",
      "Percentage of Products Ordered: 60.00%\n"
     ]
    }
   ],
   "source": [
    "def get_order_statistics():\n",
    "    products = [\"t-shirt\", \"mug\", \"hat\", \"book\", \"keychain\"]\n",
    "    customer_orders = set()\n",
    "\n",
    "    for _ in range(3):\n",
    "        order = input(f\"Enter a product from {products}: \").strip().lower()\n",
    "        if order in products:\n",
    "            customer_orders.add(order)\n",
    "        else:\n",
    "            print(\"Invalid product. Try again.\")\n",
    "\n",
    "    total_ordered = len(customer_orders)\n",
    "    percentage_ordered = (total_ordered / len(products)) * 100\n",
    "    order_status = (total_ordered, percentage_ordered)\n",
    "\n",
    "    print(\"Your order:\", customer_orders)\n",
    "    print(\"Order stats (total ordered, % ordered):\", order_status)\n",
    "\n",
    "    return order_status\n",
    "\n",
    "# Get stats\n",
    "stats = get_order_statistics()\n",
    "\n",
    "# Print in the specified format\n",
    "print(\"\\nOrder Statistics:\")\n",
    "print(f\"Total Products Ordered: {stats[0]}\")\n",
    "print(f\"Percentage of Products Ordered: {stats[1]:.2f}%\")"
   ]
  },
  {
   "cell_type": "code",
   "execution_count": 7,
   "metadata": {},
   "outputs": [
    {
     "name": "stdout",
     "output_type": "stream",
     "text": [
      "Updated Inventory:\n",
      "{'t-shirt': 9, 'mug': 7, 'hat': 4, 'book': 11, 'keychain': 6}\n"
     ]
    }
   ],
   "source": [
    "inventory = {\n",
    "    \"t-shirt\": 10,\n",
    "    \"mug\": 8,\n",
    "    \"hat\": 5,\n",
    "    \"book\": 12,\n",
    "    \"keychain\": 7\n",
    "}\n",
    "\n",
    "# Update inventory: subtract 1 from each quantity\n",
    "for product in inventory:\n",
    "    inventory[product] -= 1\n",
    "\n",
    "print(\"Updated Inventory:\")\n",
    "print(inventory)"
   ]
  },
  {
   "cell_type": "markdown",
   "metadata": {},
   "source": [
    "10. Print the updated inventory, displaying the quantity of each product on separate lines."
   ]
  },
  {
   "cell_type": "code",
   "execution_count": 12,
   "metadata": {},
   "outputs": [
    {
     "name": "stdout",
     "output_type": "stream",
     "text": [
      "Updated Inventory:\n",
      "t-shirt: 9\n",
      "mug: 7\n",
      "hat: 4\n",
      "book: 11\n",
      "keychain: 6\n"
     ]
    }
   ],
   "source": [
    "inventory = {\n",
    "    \"t-shirt\": 10,\n",
    "    \"mug\": 8,\n",
    "    \"hat\": 5,\n",
    "    \"book\": 12,\n",
    "    \"keychain\": 7\n",
    "}\n",
    "\n",
    "# Update inventory: subtract 1 from each quantity\n",
    "for product in inventory:\n",
    "    inventory[product] -= 1\n",
    "\n",
    "# Print updated inventory\n",
    "print(\"Updated Inventory:\")\n",
    "for product, quantity in inventory.items():\n",
    "    print(f\"{product}: {quantity}\")"
   ]
  },
  {
   "cell_type": "code",
   "execution_count": null,
   "metadata": {},
   "outputs": [],
   "source": []
  }
 ],
 "metadata": {
  "kernelspec": {
   "display_name": "Python [conda env:base] *",
   "language": "python",
   "name": "conda-base-py"
  },
  "language_info": {
   "codemirror_mode": {
    "name": "ipython",
    "version": 3
   },
   "file_extension": ".py",
   "mimetype": "text/x-python",
   "name": "python",
   "nbconvert_exporter": "python",
   "pygments_lexer": "ipython3",
   "version": "3.12.7"
  }
 },
 "nbformat": 4,
 "nbformat_minor": 4
}
